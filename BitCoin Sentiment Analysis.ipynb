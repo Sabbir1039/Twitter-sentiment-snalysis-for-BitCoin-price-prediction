{
 "cells": [
  {
   "cell_type": "code",
   "execution_count": 1,
   "id": "c8b57838",
   "metadata": {},
   "outputs": [],
   "source": [
    "##Data Manipulation\n",
    "import pandas as pd\n",
    "import numpy as np\n",
    "import re\n",
    "import string\n",
    "from textblob import TextBlob\n",
    "import string\n",
    "import matplotlib.pyplot as plt\n",
    "\n",
    "## methods and stopwords text processing\n",
    "from nltk.corpus import stopwords\n",
    "from nltk.tokenize import word_tokenize\n",
    "from nltk.stem import PorterStemmer\n",
    "from nltk.stem import WordNetLemmatizer\n",
    "from sklearn.feature_extraction.text import TfidfVectorizer\n",
    "from sklearn.model_selection import train_test_split\n",
    "\n",
    "## Machine learning Libraries\n",
    "from sklearn.metrics import accuracy_score\n",
    "from sklearn.naive_bayes import MultinomialNB\n",
    "from sklearn.svm import SVC\n",
    "from sklearn.ensemble import RandomForestClassifier\n",
    "\n",
    "from sklearn.feature_extraction.text import CountVectorizer\n",
    "from sklearn.metrics import roc_curve, auc\n",
    "\n",
    "\n",
    "import warnings\n",
    "warnings.filterwarnings(\"ignore\")"
   ]
  },
  {
   "cell_type": "code",
   "execution_count": 2,
   "id": "56bf66fe",
   "metadata": {},
   "outputs": [
    {
     "data": {
      "text/html": [
       "<div>\n",
       "<style scoped>\n",
       "    .dataframe tbody tr th:only-of-type {\n",
       "        vertical-align: middle;\n",
       "    }\n",
       "\n",
       "    .dataframe tbody tr th {\n",
       "        vertical-align: top;\n",
       "    }\n",
       "\n",
       "    .dataframe thead th {\n",
       "        text-align: right;\n",
       "    }\n",
       "</style>\n",
       "<table border=\"1\" class=\"dataframe\">\n",
       "  <thead>\n",
       "    <tr style=\"text-align: right;\">\n",
       "      <th></th>\n",
       "      <th>user_name</th>\n",
       "      <th>user_location</th>\n",
       "      <th>user_description</th>\n",
       "      <th>user_created</th>\n",
       "      <th>user_followers</th>\n",
       "      <th>user_friends</th>\n",
       "      <th>user_favourites</th>\n",
       "      <th>user_verified</th>\n",
       "      <th>date</th>\n",
       "      <th>text</th>\n",
       "      <th>hashtags</th>\n",
       "      <th>source</th>\n",
       "      <th>is_retweet</th>\n",
       "    </tr>\n",
       "  </thead>\n",
       "  <tbody>\n",
       "    <tr>\n",
       "      <th>0</th>\n",
       "      <td>DeSota Wilson</td>\n",
       "      <td>Atlanta, GA</td>\n",
       "      <td>Biz Consultant, real estate, fintech, startups...</td>\n",
       "      <td>2009-04-26 20:05:09</td>\n",
       "      <td>8534.0</td>\n",
       "      <td>7605</td>\n",
       "      <td>4838</td>\n",
       "      <td>False</td>\n",
       "      <td>2021-02-10 23:59:04</td>\n",
       "      <td>Blue Ridge Bank shares halted by NYSE after #b...</td>\n",
       "      <td>['bitcoin']</td>\n",
       "      <td>Twitter Web App</td>\n",
       "      <td>False</td>\n",
       "    </tr>\n",
       "    <tr>\n",
       "      <th>1</th>\n",
       "      <td>CryptoND</td>\n",
       "      <td>NaN</td>\n",
       "      <td>😎 BITCOINLIVE is a Dutch platform aimed at inf...</td>\n",
       "      <td>2019-10-17 20:12:10</td>\n",
       "      <td>6769.0</td>\n",
       "      <td>1532</td>\n",
       "      <td>25483</td>\n",
       "      <td>False</td>\n",
       "      <td>2021-02-10 23:58:48</td>\n",
       "      <td>😎 Today, that's this #Thursday, we will do a \"...</td>\n",
       "      <td>['Thursday', 'Btc', 'wallet', 'security']</td>\n",
       "      <td>Twitter for Android</td>\n",
       "      <td>False</td>\n",
       "    </tr>\n",
       "    <tr>\n",
       "      <th>2</th>\n",
       "      <td>Tdlmatias</td>\n",
       "      <td>London, England</td>\n",
       "      <td>IM Academy : The best #forex, #SelfEducation, ...</td>\n",
       "      <td>2014-11-10 10:50:37</td>\n",
       "      <td>128.0</td>\n",
       "      <td>332</td>\n",
       "      <td>924</td>\n",
       "      <td>False</td>\n",
       "      <td>2021-02-10 23:54:48</td>\n",
       "      <td>Guys evening, I have read this article about B...</td>\n",
       "      <td>NaN</td>\n",
       "      <td>Twitter Web App</td>\n",
       "      <td>False</td>\n",
       "    </tr>\n",
       "    <tr>\n",
       "      <th>3</th>\n",
       "      <td>Crypto is the future</td>\n",
       "      <td>NaN</td>\n",
       "      <td>I will post a lot of buying signals for BTC tr...</td>\n",
       "      <td>2019-09-28 16:48:12</td>\n",
       "      <td>625.0</td>\n",
       "      <td>129</td>\n",
       "      <td>14</td>\n",
       "      <td>False</td>\n",
       "      <td>2021-02-10 23:54:33</td>\n",
       "      <td>$BTC A big chance in a billion! Price: \\487264...</td>\n",
       "      <td>['Bitcoin', 'FX', 'BTC', 'crypto']</td>\n",
       "      <td>dlvr.it</td>\n",
       "      <td>False</td>\n",
       "    </tr>\n",
       "    <tr>\n",
       "      <th>4</th>\n",
       "      <td>Alex Kirchmaier 🇦🇹🇸🇪 #FactsSuperspreader</td>\n",
       "      <td>Europa</td>\n",
       "      <td>Co-founder @RENJERJerky | Forbes 30Under30 | I...</td>\n",
       "      <td>2016-02-03 13:15:55</td>\n",
       "      <td>1249.0</td>\n",
       "      <td>1472</td>\n",
       "      <td>10482</td>\n",
       "      <td>False</td>\n",
       "      <td>2021-02-10 23:54:06</td>\n",
       "      <td>This network is secured by 9 508 nodes as of t...</td>\n",
       "      <td>['BTC']</td>\n",
       "      <td>Twitter Web App</td>\n",
       "      <td>False</td>\n",
       "    </tr>\n",
       "  </tbody>\n",
       "</table>\n",
       "</div>"
      ],
      "text/plain": [
       "                                  user_name    user_location  \\\n",
       "0                             DeSota Wilson      Atlanta, GA   \n",
       "1                                  CryptoND              NaN   \n",
       "2                                 Tdlmatias  London, England   \n",
       "3                      Crypto is the future              NaN   \n",
       "4  Alex Kirchmaier 🇦🇹🇸🇪 #FactsSuperspreader           Europa   \n",
       "\n",
       "                                    user_description         user_created  \\\n",
       "0  Biz Consultant, real estate, fintech, startups...  2009-04-26 20:05:09   \n",
       "1  😎 BITCOINLIVE is a Dutch platform aimed at inf...  2019-10-17 20:12:10   \n",
       "2  IM Academy : The best #forex, #SelfEducation, ...  2014-11-10 10:50:37   \n",
       "3  I will post a lot of buying signals for BTC tr...  2019-09-28 16:48:12   \n",
       "4  Co-founder @RENJERJerky | Forbes 30Under30 | I...  2016-02-03 13:15:55   \n",
       "\n",
       "   user_followers user_friends user_favourites user_verified  \\\n",
       "0          8534.0         7605            4838         False   \n",
       "1          6769.0         1532           25483         False   \n",
       "2           128.0          332             924         False   \n",
       "3           625.0          129              14         False   \n",
       "4          1249.0         1472           10482         False   \n",
       "\n",
       "                  date                                               text  \\\n",
       "0  2021-02-10 23:59:04  Blue Ridge Bank shares halted by NYSE after #b...   \n",
       "1  2021-02-10 23:58:48  😎 Today, that's this #Thursday, we will do a \"...   \n",
       "2  2021-02-10 23:54:48  Guys evening, I have read this article about B...   \n",
       "3  2021-02-10 23:54:33  $BTC A big chance in a billion! Price: \\487264...   \n",
       "4  2021-02-10 23:54:06  This network is secured by 9 508 nodes as of t...   \n",
       "\n",
       "                                    hashtags               source is_retweet  \n",
       "0                                ['bitcoin']      Twitter Web App      False  \n",
       "1  ['Thursday', 'Btc', 'wallet', 'security']  Twitter for Android      False  \n",
       "2                                        NaN      Twitter Web App      False  \n",
       "3         ['Bitcoin', 'FX', 'BTC', 'crypto']              dlvr.it      False  \n",
       "4                                    ['BTC']      Twitter Web App      False  "
      ]
     },
     "execution_count": 2,
     "metadata": {},
     "output_type": "execute_result"
    }
   ],
   "source": [
    "## Loading Tweet Dataset\n",
    "df1 = pd.read_csv(\"Bitcoin_tweets.csv\")\n",
    "df1.head()"
   ]
  },
  {
   "cell_type": "markdown",
   "id": "207c28bf",
   "metadata": {},
   "source": [
    "# Preprocess tweets"
   ]
  },
  {
   "cell_type": "code",
   "execution_count": 3,
   "id": "66659f76",
   "metadata": {},
   "outputs": [
    {
     "data": {
      "text/html": [
       "<div>\n",
       "<style scoped>\n",
       "    .dataframe tbody tr th:only-of-type {\n",
       "        vertical-align: middle;\n",
       "    }\n",
       "\n",
       "    .dataframe tbody tr th {\n",
       "        vertical-align: top;\n",
       "    }\n",
       "\n",
       "    .dataframe thead th {\n",
       "        text-align: right;\n",
       "    }\n",
       "</style>\n",
       "<table border=\"1\" class=\"dataframe\">\n",
       "  <thead>\n",
       "    <tr style=\"text-align: right;\">\n",
       "      <th></th>\n",
       "      <th>text</th>\n",
       "    </tr>\n",
       "  </thead>\n",
       "  <tbody>\n",
       "    <tr>\n",
       "      <th>0</th>\n",
       "      <td>Blue Ridge Bank shares halted by NYSE after #b...</td>\n",
       "    </tr>\n",
       "    <tr>\n",
       "      <th>1</th>\n",
       "      <td>😎 Today, that's this #Thursday, we will do a \"...</td>\n",
       "    </tr>\n",
       "    <tr>\n",
       "      <th>2</th>\n",
       "      <td>Guys evening, I have read this article about B...</td>\n",
       "    </tr>\n",
       "    <tr>\n",
       "      <th>3</th>\n",
       "      <td>$BTC A big chance in a billion! Price: \\487264...</td>\n",
       "    </tr>\n",
       "    <tr>\n",
       "      <th>4</th>\n",
       "      <td>This network is secured by 9 508 nodes as of t...</td>\n",
       "    </tr>\n",
       "  </tbody>\n",
       "</table>\n",
       "</div>"
      ],
      "text/plain": [
       "                                                text\n",
       "0  Blue Ridge Bank shares halted by NYSE after #b...\n",
       "1  😎 Today, that's this #Thursday, we will do a \"...\n",
       "2  Guys evening, I have read this article about B...\n",
       "3  $BTC A big chance in a billion! Price: \\487264...\n",
       "4  This network is secured by 9 508 nodes as of t..."
      ]
     },
     "execution_count": 3,
     "metadata": {},
     "output_type": "execute_result"
    }
   ],
   "source": [
    "##Selecting 20k row and Only text column\n",
    "tweets = df1.iloc[0:20000,-4:-3]\n",
    "tweets.head()"
   ]
  },
  {
   "cell_type": "markdown",
   "id": "c0c69940",
   "metadata": {},
   "source": [
    "# data Cleaning"
   ]
  },
  {
   "cell_type": "code",
   "execution_count": 4,
   "id": "847902cb",
   "metadata": {},
   "outputs": [
    {
     "name": "stdout",
     "output_type": "stream",
     "text": [
      "                                                text\n",
      "0  Blue Ridge Bank shares halted by NYSE after bi...\n",
      "1  😎 Today thats this Thursday we will do a 🎬 Tak...\n",
      "2  Guys evening I have read this article about BT...\n",
      "3  BTC A big chance in a billion Price 48726440 2...\n",
      "4  This network is secured by 9 508 nodes as of t...\n"
     ]
    }
   ],
   "source": [
    "#defining the function to remove punctuation\n",
    "string.punctuation\n",
    "def remove_punctuation(text):\n",
    "    punctuationfree=\"\".join([i for i in text if i not in string.punctuation])\n",
    "    return punctuationfree\n",
    "\n",
    "#storing the puntuation free text\n",
    "tweets['text']= tweets['text'].apply(lambda x:remove_punctuation(x))\n",
    "\n",
    "print(tweets.head())"
   ]
  },
  {
   "cell_type": "code",
   "execution_count": 5,
   "id": "fd962845",
   "metadata": {},
   "outputs": [
    {
     "data": {
      "text/html": [
       "<div>\n",
       "<style scoped>\n",
       "    .dataframe tbody tr th:only-of-type {\n",
       "        vertical-align: middle;\n",
       "    }\n",
       "\n",
       "    .dataframe tbody tr th {\n",
       "        vertical-align: top;\n",
       "    }\n",
       "\n",
       "    .dataframe thead th {\n",
       "        text-align: right;\n",
       "    }\n",
       "</style>\n",
       "<table border=\"1\" class=\"dataframe\">\n",
       "  <thead>\n",
       "    <tr style=\"text-align: right;\">\n",
       "      <th></th>\n",
       "      <th>text</th>\n",
       "    </tr>\n",
       "  </thead>\n",
       "  <tbody>\n",
       "    <tr>\n",
       "      <th>0</th>\n",
       "      <td>Blue Ridge Bank shares halted by NYSE after bi...</td>\n",
       "    </tr>\n",
       "    <tr>\n",
       "      <th>1</th>\n",
       "      <td>Today thats this Thursday we will do a  Take ...</td>\n",
       "    </tr>\n",
       "    <tr>\n",
       "      <th>2</th>\n",
       "      <td>Guys evening I have read this article about BT...</td>\n",
       "    </tr>\n",
       "    <tr>\n",
       "      <th>3</th>\n",
       "      <td>BTC A big chance in a billion Price 48726440 2...</td>\n",
       "    </tr>\n",
       "    <tr>\n",
       "      <th>4</th>\n",
       "      <td>This network is secured by 9 508 nodes as of t...</td>\n",
       "    </tr>\n",
       "  </tbody>\n",
       "</table>\n",
       "</div>"
      ],
      "text/plain": [
       "                                                text\n",
       "0  Blue Ridge Bank shares halted by NYSE after bi...\n",
       "1   Today thats this Thursday we will do a  Take ...\n",
       "2  Guys evening I have read this article about BT...\n",
       "3  BTC A big chance in a billion Price 48726440 2...\n",
       "4  This network is secured by 9 508 nodes as of t..."
      ]
     },
     "execution_count": 5,
     "metadata": {},
     "output_type": "execute_result"
    }
   ],
   "source": [
    "##Remove Emojis and pictograph\n",
    "def remove_emoji(string):\n",
    "    emoji_pattern = re.compile(\"[\"\n",
    "                           u\"\\U0001F600-\\U0001F64F\"  # emoticons\n",
    "                           u\"\\U0001F300-\\U0001F5FF\"  # symbols & pictographs\n",
    "                           u\"\\U0001F680-\\U0001F6FF\"  # transport & map symbols\n",
    "                           u\"\\U0001F1E0-\\U0001F1FF\"  # flags \n",
    "                           u\"\\U00002702-\\U000027B0\"\n",
    "                           u\"\\U000024C2-\\U0001F251\"\n",
    "                           \"]+\", flags=re.UNICODE)\n",
    "    return emoji_pattern.sub(r'', string)\n",
    "tweets['text'] = tweets['text'].apply(remove_emoji)\n",
    "tweets.head()"
   ]
  },
  {
   "cell_type": "code",
   "execution_count": 6,
   "id": "22ce418c",
   "metadata": {},
   "outputs": [
    {
     "name": "stdout",
     "output_type": "stream",
     "text": [
      "(20000, 1)\n"
     ]
    }
   ],
   "source": [
    "print(tweets.shape)"
   ]
  },
  {
   "cell_type": "code",
   "execution_count": 7,
   "id": "25e510dc",
   "metadata": {},
   "outputs": [
    {
     "data": {
      "text/html": [
       "<div>\n",
       "<style scoped>\n",
       "    .dataframe tbody tr th:only-of-type {\n",
       "        vertical-align: middle;\n",
       "    }\n",
       "\n",
       "    .dataframe tbody tr th {\n",
       "        vertical-align: top;\n",
       "    }\n",
       "\n",
       "    .dataframe thead th {\n",
       "        text-align: right;\n",
       "    }\n",
       "</style>\n",
       "<table border=\"1\" class=\"dataframe\">\n",
       "  <thead>\n",
       "    <tr style=\"text-align: right;\">\n",
       "      <th></th>\n",
       "      <th>text</th>\n",
       "      <th>clean_text</th>\n",
       "    </tr>\n",
       "  </thead>\n",
       "  <tbody>\n",
       "    <tr>\n",
       "      <th>0</th>\n",
       "      <td>Blue Ridge Bank shares halted by NYSE after bi...</td>\n",
       "      <td>Blue Ridge Bank shares halted by NYSE after bi...</td>\n",
       "    </tr>\n",
       "    <tr>\n",
       "      <th>1</th>\n",
       "      <td>Today thats this Thursday we will do a  Take ...</td>\n",
       "      <td>Today thats this Thursday we will do a  Take ...</td>\n",
       "    </tr>\n",
       "    <tr>\n",
       "      <th>2</th>\n",
       "      <td>Guys evening I have read this article about BT...</td>\n",
       "      <td>Guys evening I have read this article about BT...</td>\n",
       "    </tr>\n",
       "    <tr>\n",
       "      <th>3</th>\n",
       "      <td>BTC A big chance in a billion Price 48726440 2...</td>\n",
       "      <td>BTC A big chance in a billion Price 48726440 2...</td>\n",
       "    </tr>\n",
       "    <tr>\n",
       "      <th>4</th>\n",
       "      <td>This network is secured by 9 508 nodes as of t...</td>\n",
       "      <td>This network is secured by 9 508 nodes as of t...</td>\n",
       "    </tr>\n",
       "  </tbody>\n",
       "</table>\n",
       "</div>"
      ],
      "text/plain": [
       "                                                text  \\\n",
       "0  Blue Ridge Bank shares halted by NYSE after bi...   \n",
       "1   Today thats this Thursday we will do a  Take ...   \n",
       "2  Guys evening I have read this article about BT...   \n",
       "3  BTC A big chance in a billion Price 48726440 2...   \n",
       "4  This network is secured by 9 508 nodes as of t...   \n",
       "\n",
       "                                          clean_text  \n",
       "0  Blue Ridge Bank shares halted by NYSE after bi...  \n",
       "1   Today thats this Thursday we will do a  Take ...  \n",
       "2  Guys evening I have read this article about BT...  \n",
       "3  BTC A big chance in a billion Price 48726440 2...  \n",
       "4  This network is secured by 9 508 nodes as of t...  "
      ]
     },
     "execution_count": 7,
     "metadata": {},
     "output_type": "execute_result"
    }
   ],
   "source": [
    "## create a function to clean the text\n",
    "\n",
    "def cleanTxt(text):\n",
    "    text = re.sub(r'@[A-Za-z0-9]+', '', text) #remove @mentions\n",
    "    text = re.sub(r'#', '', text) #remove \n",
    "    text = re.sub(r'RT[\\s]+', '', text) #remove retweet\n",
    "    text = re.sub(r'https?:\\/\\/\\S+', '', text) #remove hyperlink\n",
    "    return text\n",
    "tweets['clean_text'] = tweets['text'].apply(cleanTxt)\n",
    "tweets.head()"
   ]
  },
  {
   "cell_type": "code",
   "execution_count": 8,
   "id": "255056b1",
   "metadata": {},
   "outputs": [
    {
     "data": {
      "text/html": [
       "<div>\n",
       "<style scoped>\n",
       "    .dataframe tbody tr th:only-of-type {\n",
       "        vertical-align: middle;\n",
       "    }\n",
       "\n",
       "    .dataframe tbody tr th {\n",
       "        vertical-align: top;\n",
       "    }\n",
       "\n",
       "    .dataframe thead th {\n",
       "        text-align: right;\n",
       "    }\n",
       "</style>\n",
       "<table border=\"1\" class=\"dataframe\">\n",
       "  <thead>\n",
       "    <tr style=\"text-align: right;\">\n",
       "      <th></th>\n",
       "      <th>text</th>\n",
       "      <th>clean_text</th>\n",
       "    </tr>\n",
       "  </thead>\n",
       "  <tbody>\n",
       "    <tr>\n",
       "      <th>0</th>\n",
       "      <td>Blue Ridge Bank shares halted by NYSE after bi...</td>\n",
       "      <td>Blue Ridge Bank shares halted NYSE bitcoin ATM...</td>\n",
       "    </tr>\n",
       "    <tr>\n",
       "      <th>1</th>\n",
       "      <td>Today thats this Thursday we will do a  Take ...</td>\n",
       "      <td>Today thats Thursday Take 2 friend LeoWandersl...</td>\n",
       "    </tr>\n",
       "    <tr>\n",
       "      <th>2</th>\n",
       "      <td>Guys evening I have read this article about BT...</td>\n",
       "      <td>Guys evening I read article BTC would like sha...</td>\n",
       "    </tr>\n",
       "    <tr>\n",
       "      <th>3</th>\n",
       "      <td>BTC A big chance in a billion Price 48726440 2...</td>\n",
       "      <td>BTC A big chance billion Price 48726440 202102...</td>\n",
       "    </tr>\n",
       "    <tr>\n",
       "      <th>4</th>\n",
       "      <td>This network is secured by 9 508 nodes as of t...</td>\n",
       "      <td>This network secured 9 508 nodes today Soon bi...</td>\n",
       "    </tr>\n",
       "  </tbody>\n",
       "</table>\n",
       "</div>"
      ],
      "text/plain": [
       "                                                text  \\\n",
       "0  Blue Ridge Bank shares halted by NYSE after bi...   \n",
       "1   Today thats this Thursday we will do a  Take ...   \n",
       "2  Guys evening I have read this article about BT...   \n",
       "3  BTC A big chance in a billion Price 48726440 2...   \n",
       "4  This network is secured by 9 508 nodes as of t...   \n",
       "\n",
       "                                          clean_text  \n",
       "0  Blue Ridge Bank shares halted NYSE bitcoin ATM...  \n",
       "1  Today thats Thursday Take 2 friend LeoWandersl...  \n",
       "2  Guys evening I read article BTC would like sha...  \n",
       "3  BTC A big chance billion Price 48726440 202102...  \n",
       "4  This network secured 9 508 nodes today Soon bi...  "
      ]
     },
     "execution_count": 8,
     "metadata": {},
     "output_type": "execute_result"
    }
   ],
   "source": [
    "## Trying to remove stopwords\n",
    "stop = stopwords.words('english')\n",
    "tweets['clean_text'] = tweets['clean_text'].apply(lambda x: ' '.join([word for word in x.split() if word not in (stop)]))\n",
    "tweets.head()"
   ]
  },
  {
   "cell_type": "code",
   "execution_count": 9,
   "id": "715c73f1",
   "metadata": {},
   "outputs": [
    {
     "data": {
      "text/html": [
       "<div>\n",
       "<style scoped>\n",
       "    .dataframe tbody tr th:only-of-type {\n",
       "        vertical-align: middle;\n",
       "    }\n",
       "\n",
       "    .dataframe tbody tr th {\n",
       "        vertical-align: top;\n",
       "    }\n",
       "\n",
       "    .dataframe thead th {\n",
       "        text-align: right;\n",
       "    }\n",
       "</style>\n",
       "<table border=\"1\" class=\"dataframe\">\n",
       "  <thead>\n",
       "    <tr style=\"text-align: right;\">\n",
       "      <th></th>\n",
       "      <th>text</th>\n",
       "      <th>clean_text</th>\n",
       "    </tr>\n",
       "  </thead>\n",
       "  <tbody>\n",
       "    <tr>\n",
       "      <th>0</th>\n",
       "      <td>Blue Ridge Bank shares halted by NYSE after bi...</td>\n",
       "      <td>blue ridge bank shares halted nyse bitcoin atm...</td>\n",
       "    </tr>\n",
       "    <tr>\n",
       "      <th>1</th>\n",
       "      <td>Today thats this Thursday we will do a  Take ...</td>\n",
       "      <td>today thats thursday take  friend leowandersle...</td>\n",
       "    </tr>\n",
       "    <tr>\n",
       "      <th>2</th>\n",
       "      <td>Guys evening I have read this article about BT...</td>\n",
       "      <td>guys evening i read article btc would like sha...</td>\n",
       "    </tr>\n",
       "    <tr>\n",
       "      <th>3</th>\n",
       "      <td>BTC A big chance in a billion Price 48726440 2...</td>\n",
       "      <td>btc a big chance billion price    bitcoin fx b...</td>\n",
       "    </tr>\n",
       "    <tr>\n",
       "      <th>4</th>\n",
       "      <td>This network is secured by 9 508 nodes as of t...</td>\n",
       "      <td>this network secured   nodes today soon bigges...</td>\n",
       "    </tr>\n",
       "  </tbody>\n",
       "</table>\n",
       "</div>"
      ],
      "text/plain": [
       "                                                text  \\\n",
       "0  Blue Ridge Bank shares halted by NYSE after bi...   \n",
       "1   Today thats this Thursday we will do a  Take ...   \n",
       "2  Guys evening I have read this article about BT...   \n",
       "3  BTC A big chance in a billion Price 48726440 2...   \n",
       "4  This network is secured by 9 508 nodes as of t...   \n",
       "\n",
       "                                          clean_text  \n",
       "0  blue ridge bank shares halted nyse bitcoin atm...  \n",
       "1  today thats thursday take  friend leowandersle...  \n",
       "2  guys evening i read article btc would like sha...  \n",
       "3  btc a big chance billion price    bitcoin fx b...  \n",
       "4  this network secured   nodes today soon bigges...  "
      ]
     },
     "execution_count": 9,
     "metadata": {},
     "output_type": "execute_result"
    }
   ],
   "source": [
    "## Remove numbers from tweets[\"clean_text\"]\n",
    "tweets['clean_text'] = tweets['clean_text'].str.replace('\\d+', '')\n",
    "\n",
    "## Convert the tweets[\"clean_text\"] into lower cse\n",
    "tweets['clean_text'] = tweets['clean_text'].str.lower()\n",
    "tweets.head()"
   ]
  },
  {
   "cell_type": "markdown",
   "id": "e7f474e2",
   "metadata": {},
   "source": [
    "# Calculate polarity of tweets[\"clean_text\"]"
   ]
  },
  {
   "cell_type": "code",
   "execution_count": 10,
   "id": "27eea60a",
   "metadata": {},
   "outputs": [
    {
     "data": {
      "text/html": [
       "<div>\n",
       "<style scoped>\n",
       "    .dataframe tbody tr th:only-of-type {\n",
       "        vertical-align: middle;\n",
       "    }\n",
       "\n",
       "    .dataframe tbody tr th {\n",
       "        vertical-align: top;\n",
       "    }\n",
       "\n",
       "    .dataframe thead th {\n",
       "        text-align: right;\n",
       "    }\n",
       "</style>\n",
       "<table border=\"1\" class=\"dataframe\">\n",
       "  <thead>\n",
       "    <tr style=\"text-align: right;\">\n",
       "      <th></th>\n",
       "      <th>text</th>\n",
       "      <th>clean_text</th>\n",
       "      <th>Polarity</th>\n",
       "    </tr>\n",
       "  </thead>\n",
       "  <tbody>\n",
       "    <tr>\n",
       "      <th>0</th>\n",
       "      <td>Blue Ridge Bank shares halted by NYSE after bi...</td>\n",
       "      <td>blue ridge bank shares halted nyse bitcoin atm...</td>\n",
       "      <td>0.0</td>\n",
       "    </tr>\n",
       "    <tr>\n",
       "      <th>1</th>\n",
       "      <td>Today thats this Thursday we will do a  Take ...</td>\n",
       "      <td>today thats thursday take  friend leowandersle...</td>\n",
       "      <td>0.0</td>\n",
       "    </tr>\n",
       "    <tr>\n",
       "      <th>2</th>\n",
       "      <td>Guys evening I have read this article about BT...</td>\n",
       "      <td>guys evening i read article btc would like sha...</td>\n",
       "      <td>0.0</td>\n",
       "    </tr>\n",
       "    <tr>\n",
       "      <th>3</th>\n",
       "      <td>BTC A big chance in a billion Price 48726440 2...</td>\n",
       "      <td>btc a big chance billion price    bitcoin fx b...</td>\n",
       "      <td>0.0</td>\n",
       "    </tr>\n",
       "    <tr>\n",
       "      <th>4</th>\n",
       "      <td>This network is secured by 9 508 nodes as of t...</td>\n",
       "      <td>this network secured   nodes today soon bigges...</td>\n",
       "      <td>0.0</td>\n",
       "    </tr>\n",
       "  </tbody>\n",
       "</table>\n",
       "</div>"
      ],
      "text/plain": [
       "                                                text  \\\n",
       "0  Blue Ridge Bank shares halted by NYSE after bi...   \n",
       "1   Today thats this Thursday we will do a  Take ...   \n",
       "2  Guys evening I have read this article about BT...   \n",
       "3  BTC A big chance in a billion Price 48726440 2...   \n",
       "4  This network is secured by 9 508 nodes as of t...   \n",
       "\n",
       "                                          clean_text  Polarity  \n",
       "0  blue ridge bank shares halted nyse bitcoin atm...       0.0  \n",
       "1  today thats thursday take  friend leowandersle...       0.0  \n",
       "2  guys evening i read article btc would like sha...       0.0  \n",
       "3  btc a big chance billion price    bitcoin fx b...       0.0  \n",
       "4  this network secured   nodes today soon bigges...       0.0  "
      ]
     },
     "execution_count": 10,
     "metadata": {},
     "output_type": "execute_result"
    }
   ],
   "source": [
    "## function for polarity\n",
    "def getPolarity(text):\n",
    "    return TextBlob(text).sentiment.polarity\n",
    "\n",
    "tweets['Polarity'] = tweets['clean_text'].apply(getPolarity)\n",
    "\n",
    "tweets.head()"
   ]
  },
  {
   "cell_type": "code",
   "execution_count": 11,
   "id": "5c62a41b",
   "metadata": {},
   "outputs": [
    {
     "data": {
      "text/html": [
       "<div>\n",
       "<style scoped>\n",
       "    .dataframe tbody tr th:only-of-type {\n",
       "        vertical-align: middle;\n",
       "    }\n",
       "\n",
       "    .dataframe tbody tr th {\n",
       "        vertical-align: top;\n",
       "    }\n",
       "\n",
       "    .dataframe thead th {\n",
       "        text-align: right;\n",
       "    }\n",
       "</style>\n",
       "<table border=\"1\" class=\"dataframe\">\n",
       "  <thead>\n",
       "    <tr style=\"text-align: right;\">\n",
       "      <th></th>\n",
       "      <th>clean_text</th>\n",
       "      <th>Polarity</th>\n",
       "    </tr>\n",
       "  </thead>\n",
       "  <tbody>\n",
       "    <tr>\n",
       "      <th>0</th>\n",
       "      <td>blue ridge bank shares halted nyse bitcoin atm...</td>\n",
       "      <td>0.0</td>\n",
       "    </tr>\n",
       "    <tr>\n",
       "      <th>1</th>\n",
       "      <td>today thats thursday take  friend leowandersle...</td>\n",
       "      <td>0.0</td>\n",
       "    </tr>\n",
       "    <tr>\n",
       "      <th>2</th>\n",
       "      <td>guys evening i read article btc would like sha...</td>\n",
       "      <td>0.0</td>\n",
       "    </tr>\n",
       "    <tr>\n",
       "      <th>3</th>\n",
       "      <td>btc a big chance billion price    bitcoin fx b...</td>\n",
       "      <td>0.0</td>\n",
       "    </tr>\n",
       "    <tr>\n",
       "      <th>4</th>\n",
       "      <td>this network secured   nodes today soon bigges...</td>\n",
       "      <td>0.0</td>\n",
       "    </tr>\n",
       "    <tr>\n",
       "      <th>5</th>\n",
       "      <td>trade crypto binance enjoy cashback  trading f...</td>\n",
       "      <td>0.4</td>\n",
       "    </tr>\n",
       "    <tr>\n",
       "      <th>6</th>\n",
       "      <td>ltfire amp mangt bitcoin crypto btc httpstcocv...</td>\n",
       "      <td>0.0</td>\n",
       "    </tr>\n",
       "    <tr>\n",
       "      <th>7</th>\n",
       "      <td>prices update eur  hour btc  €  eth  €  xrp  €...</td>\n",
       "      <td>0.0</td>\n",
       "    </tr>\n",
       "    <tr>\n",
       "      <th>8</th>\n",
       "      <td>btc bitcoin ethereum eth crypto cryptotrading ...</td>\n",
       "      <td>0.0</td>\n",
       "    </tr>\n",
       "    <tr>\n",
       "      <th>9</th>\n",
       "      <td>tesla’s bitcoin investment revolutionary crypt...</td>\n",
       "      <td>0.0</td>\n",
       "    </tr>\n",
       "  </tbody>\n",
       "</table>\n",
       "</div>"
      ],
      "text/plain": [
       "                                          clean_text  Polarity\n",
       "0  blue ridge bank shares halted nyse bitcoin atm...       0.0\n",
       "1  today thats thursday take  friend leowandersle...       0.0\n",
       "2  guys evening i read article btc would like sha...       0.0\n",
       "3  btc a big chance billion price    bitcoin fx b...       0.0\n",
       "4  this network secured   nodes today soon bigges...       0.0\n",
       "5  trade crypto binance enjoy cashback  trading f...       0.4\n",
       "6  ltfire amp mangt bitcoin crypto btc httpstcocv...       0.0\n",
       "7  prices update eur  hour btc  €  eth  €  xrp  €...       0.0\n",
       "8  btc bitcoin ethereum eth crypto cryptotrading ...       0.0\n",
       "9  tesla’s bitcoin investment revolutionary crypt...       0.0"
      ]
     },
     "execution_count": 11,
     "metadata": {},
     "output_type": "execute_result"
    }
   ],
   "source": [
    "## Removing \"text\" column\n",
    "final_tweets = tweets.iloc[:,1:3]\n",
    "final_tweets.head(10)"
   ]
  },
  {
   "cell_type": "code",
   "execution_count": 12,
   "id": "4241d231",
   "metadata": {},
   "outputs": [
    {
     "data": {
      "text/html": [
       "<div>\n",
       "<style scoped>\n",
       "    .dataframe tbody tr th:only-of-type {\n",
       "        vertical-align: middle;\n",
       "    }\n",
       "\n",
       "    .dataframe tbody tr th {\n",
       "        vertical-align: top;\n",
       "    }\n",
       "\n",
       "    .dataframe thead th {\n",
       "        text-align: right;\n",
       "    }\n",
       "</style>\n",
       "<table border=\"1\" class=\"dataframe\">\n",
       "  <thead>\n",
       "    <tr style=\"text-align: right;\">\n",
       "      <th></th>\n",
       "      <th>clean_text</th>\n",
       "      <th>Polarity</th>\n",
       "      <th>Label</th>\n",
       "    </tr>\n",
       "  </thead>\n",
       "  <tbody>\n",
       "    <tr>\n",
       "      <th>0</th>\n",
       "      <td>blue ridge bank shares halted nyse bitcoin atm...</td>\n",
       "      <td>0.0</td>\n",
       "      <td>0</td>\n",
       "    </tr>\n",
       "    <tr>\n",
       "      <th>1</th>\n",
       "      <td>today thats thursday take  friend leowandersle...</td>\n",
       "      <td>0.0</td>\n",
       "      <td>0</td>\n",
       "    </tr>\n",
       "    <tr>\n",
       "      <th>2</th>\n",
       "      <td>guys evening i read article btc would like sha...</td>\n",
       "      <td>0.0</td>\n",
       "      <td>0</td>\n",
       "    </tr>\n",
       "    <tr>\n",
       "      <th>3</th>\n",
       "      <td>btc a big chance billion price    bitcoin fx b...</td>\n",
       "      <td>0.0</td>\n",
       "      <td>0</td>\n",
       "    </tr>\n",
       "    <tr>\n",
       "      <th>4</th>\n",
       "      <td>this network secured   nodes today soon bigges...</td>\n",
       "      <td>0.0</td>\n",
       "      <td>0</td>\n",
       "    </tr>\n",
       "    <tr>\n",
       "      <th>5</th>\n",
       "      <td>trade crypto binance enjoy cashback  trading f...</td>\n",
       "      <td>0.4</td>\n",
       "      <td>1</td>\n",
       "    </tr>\n",
       "    <tr>\n",
       "      <th>6</th>\n",
       "      <td>ltfire amp mangt bitcoin crypto btc httpstcocv...</td>\n",
       "      <td>0.0</td>\n",
       "      <td>0</td>\n",
       "    </tr>\n",
       "    <tr>\n",
       "      <th>7</th>\n",
       "      <td>prices update eur  hour btc  €  eth  €  xrp  €...</td>\n",
       "      <td>0.0</td>\n",
       "      <td>0</td>\n",
       "    </tr>\n",
       "    <tr>\n",
       "      <th>8</th>\n",
       "      <td>btc bitcoin ethereum eth crypto cryptotrading ...</td>\n",
       "      <td>0.0</td>\n",
       "      <td>0</td>\n",
       "    </tr>\n",
       "    <tr>\n",
       "      <th>9</th>\n",
       "      <td>tesla’s bitcoin investment revolutionary crypt...</td>\n",
       "      <td>0.0</td>\n",
       "      <td>0</td>\n",
       "    </tr>\n",
       "  </tbody>\n",
       "</table>\n",
       "</div>"
      ],
      "text/plain": [
       "                                          clean_text  Polarity  Label\n",
       "0  blue ridge bank shares halted nyse bitcoin atm...       0.0      0\n",
       "1  today thats thursday take  friend leowandersle...       0.0      0\n",
       "2  guys evening i read article btc would like sha...       0.0      0\n",
       "3  btc a big chance billion price    bitcoin fx b...       0.0      0\n",
       "4  this network secured   nodes today soon bigges...       0.0      0\n",
       "5  trade crypto binance enjoy cashback  trading f...       0.4      1\n",
       "6  ltfire amp mangt bitcoin crypto btc httpstcocv...       0.0      0\n",
       "7  prices update eur  hour btc  €  eth  €  xrp  €...       0.0      0\n",
       "8  btc bitcoin ethereum eth crypto cryptotrading ...       0.0      0\n",
       "9  tesla’s bitcoin investment revolutionary crypt...       0.0      0"
      ]
     },
     "execution_count": 12,
     "metadata": {},
     "output_type": "execute_result"
    }
   ],
   "source": [
    "## Compute negative as 0, neutral and positive as 1 polarity\n",
    "\n",
    "def getAnalysis(value):\n",
    "    if (value<0):\n",
    "        return -1\n",
    "    elif (value==0):\n",
    "        return 0\n",
    "    else:\n",
    "        return 1\n",
    "final_tweets['Label'] = final_tweets['Polarity'].apply(getAnalysis)\n",
    "\n",
    "final_tweets.head(10)"
   ]
  },
  {
   "cell_type": "code",
   "execution_count": 13,
   "id": "b1db3156",
   "metadata": {},
   "outputs": [
    {
     "name": "stdout",
     "output_type": "stream",
     "text": [
      "[ 0  1 -1]\n",
      "neutral[0] =  10699\n",
      "pos[1] =  7706\n",
      "Neg[-1] =  1595\n"
     ]
    }
   ],
   "source": [
    "## Count no of positive, negative and neutral polarity tweets\n",
    "n =final_tweets.Label.unique()\n",
    "print(n)\n",
    "\n",
    "no_neut = (final_tweets['Label'] == 0).sum()\n",
    "print(\"neutral[0] = \",no_neut)\n",
    "\n",
    "no_pos = (final_tweets['Label'] == 1).sum()\n",
    "print(\"pos[1] = \",no_pos)\n",
    "\n",
    "no_neg = (final_tweets['Label'] == -1).sum()\n",
    "print(\"Neg[-1] = \",no_neg)"
   ]
  },
  {
   "cell_type": "code",
   "execution_count": 14,
   "id": "ea6555f8",
   "metadata": {},
   "outputs": [
    {
     "data": {
      "image/png": "[encoded data removed]",
      "text/plain": [
       "<Figure size 432x288 with 1 Axes>"
      ]
     },
     "metadata": {
      "needs_background": "light"
     },
     "output_type": "display_data"
    }
   ],
   "source": [
    "final_tweets[\"Label\"].value_counts()\n",
    "plt.title(\"Bitcoin Sentiment Analysis\")\n",
    "plt.xlabel(\"Sentiment\")\n",
    "plt.ylabel(\"Counts\")\n",
    "final_tweets[\"Label\"].value_counts().plot(kind = \"bar\")\n",
    "plt.show()"
   ]
  },
  {
   "cell_type": "markdown",
   "id": "efb78426",
   "metadata": {},
   "source": [
    "# Model Analysis"
   ]
  },
  {
   "cell_type": "code",
   "execution_count": 15,
   "id": "fce90ae3",
   "metadata": {},
   "outputs": [],
   "source": [
    "##Feature Extraction\n",
    "vectorizer = TfidfVectorizer(use_idf = True, norm = \"l2\", smooth_idf = True)\n",
    "\n",
    "y = final_tweets.Label.values\n",
    "\n",
    "X = vectorizer.fit_transform(final_tweets[\"clean_text\"].values.astype(\"U\"))"
   ]
  },
  {
   "cell_type": "code",
   "execution_count": 16,
   "id": "7035d82b",
   "metadata": {},
   "outputs": [],
   "source": [
    "## Splitting data for train and test\n",
    "X_train,X_test,y_train,y_test = train_test_split(X, y, random_state = 1, test_size = 0.3, shuffle = False)"
   ]
  },
  {
   "cell_type": "markdown",
   "id": "82c62764",
   "metadata": {},
   "source": [
    "# SVM"
   ]
  },
  {
   "cell_type": "code",
   "execution_count": 17,
   "id": "16f2c565",
   "metadata": {},
   "outputs": [
    {
     "data": {
      "text/plain": [
       "SVC(C=1.0, cache_size=200, class_weight=None, coef0=0.0,\n",
       "  decision_function_shape='ovr', degree=3, gamma='auto_deprecated',\n",
       "  kernel='linear', max_iter=-1, probability=False, random_state=None,\n",
       "  shrinking=True, tol=0.001, verbose=False)"
      ]
     },
     "execution_count": 17,
     "metadata": {},
     "output_type": "execute_result"
    }
   ],
   "source": [
    "svcclassifier = SVC(kernel = \"linear\")\n",
    "svcclassifier.fit(X_train,y_train)"
   ]
  },
  {
   "cell_type": "code",
   "execution_count": 23,
   "id": "55941f3f",
   "metadata": {},
   "outputs": [],
   "source": [
    "#y_pred_svm = svcclassifier.decision_function(X_test)"
   ]
  },
  {
   "cell_type": "code",
   "execution_count": 18,
   "id": "0c974b2b",
   "metadata": {},
   "outputs": [],
   "source": [
    "y_pred = svcclassifier.predict(X_test)"
   ]
  },
  {
   "cell_type": "code",
   "execution_count": 21,
   "id": "1d7d454d",
   "metadata": {},
   "outputs": [
    {
     "name": "stdout",
     "output_type": "stream",
     "text": [
      "Confusion Matrix: \n",
      " [[ 243  149   43]\n",
      " [   3 3094   25]\n",
      " [  32  302 2109]]\n",
      "Accuracy Score : 0.9076666666666666\n",
      "Classification Report: \n",
      "               precision    recall  f1-score   support\n",
      "\n",
      "          -1       0.87      0.56      0.68       435\n",
      "           0       0.87      0.99      0.93      3122\n",
      "           1       0.97      0.86      0.91      2443\n",
      "\n",
      "   micro avg       0.91      0.91      0.91      6000\n",
      "   macro avg       0.91      0.80      0.84      6000\n",
      "weighted avg       0.91      0.91      0.90      6000\n",
      "\n",
      "Error:  0.10483333333333333\n"
     ]
    }
   ],
   "source": [
    "#from sklearn.metrics import classification_report,confusion_matrix,accuracy_score\n",
    "from sklearn import metrics\n",
    "#Check Result\n",
    "matrix=confusion_matrix(y_test,y_pred)\n",
    "print(\"Confusion Matrix: \\n\",matrix)\n",
    "score=accuracy_score(y_test,y_pred)\n",
    "print(\"Accuracy Score :\",score)\n",
    "report=classification_report(y_test,y_pred)\n",
    "print(\"Classification Report: \\n\",report)\n",
    "\n",
    "error = metrics.mean_absolute_error(y_test, y_pred)\n",
    "print(\"Error: \", error)"
   ]
  },
  {
   "cell_type": "code",
   "execution_count": 26,
   "id": "402ec054",
   "metadata": {},
   "outputs": [
    {
     "data": {
      "text/plain": [
       "[Text(91.68, 0.5, 'Actual'), Text(0.5, 15.0, 'Prediction')]"
      ]
     },
     "execution_count": 26,
     "metadata": {},
     "output_type": "execute_result"
    },
    {
     "data": {
      "image/png": "[encoded data removed]",
      "text/plain": [
       "<Figure size 432x288 with 1 Axes>"
      ]
     },
     "metadata": {
      "needs_background": "light"
     },
     "output_type": "display_data"
    }
   ],
   "source": [
    "## Visualizing Confusion matrix\n",
    "import seaborn as sns\n",
    "plot = sns.heatmap(matrix, square=True, annot=True, cmap='Blues', fmt='d', cbar=False)\n",
    "plot.set_title(\"Confusion Matrix\", color = \"blue\")\n",
    "plot.set(xlabel=\"Prediction\", ylabel = \"Actual\")"
   ]
  },
  {
   "cell_type": "markdown",
   "id": "6437fafb",
   "metadata": {},
   "source": [
    "# Learning Curve SVM"
   ]
  },
  {
   "cell_type": "code",
   "execution_count": 37,
   "id": "d5f70614",
   "metadata": {},
   "outputs": [
    {
     "data": {
      "image/png": "[encoded data removed]",
      "text/plain": [
       "<Figure size 432x288 with 1 Axes>"
      ]
     },
     "metadata": {
      "needs_background": "light"
     },
     "output_type": "display_data"
    }
   ],
   "source": [
    "from sklearn.model_selection import learning_curve\n",
    "\n",
    "# Obtain scores from learning curve function\n",
    "# cv is the number of folds while performing Cross Validation\n",
    "sizes, training_scores, testing_scores = learning_curve(SVC(kernel = \"linear\"), X_train, y_train, cv=10, scoring='accuracy', train_sizes=np.linspace(0.01, 1.0, 50))\n",
    "\n",
    "# Mean and Standard Deviation of training scores\n",
    "mean_training = np.mean(training_scores, axis=1)\n",
    "Standard_Deviation_training = np.std(training_scores, axis=1)\n",
    "\n",
    "# Mean and Standard Deviation of testing scores\n",
    "mean_testing = np.mean(testing_scores, axis=1)\n",
    "Standard_Deviation_testing = np.std(testing_scores, axis=1)\n",
    "\n",
    "# dotted blue line is for training scores and green line is for cross-validation score\n",
    "plt.plot(sizes, mean_training, '--', color=\"b\", label=\"Training score\")\n",
    "plt.plot(sizes, mean_testing, color=\"g\", label=\"Cross-validation score\")\n",
    "\n",
    "# Drawing plot\n",
    "plt.title(\"LEARNING CURVE FOR SVC\")\n",
    "plt.xlabel(\"Training Set Size\"), plt.ylabel(\"Accuracy Score\"), plt.legend(loc=\"best\")\n",
    "plt.tight_layout()\n",
    "plt.show()"
   ]
  },
  {
   "cell_type": "markdown",
   "id": "cf6d7cf3",
   "metadata": {},
   "source": [
    "# Naive Bayes"
   ]
  },
  {
   "cell_type": "code",
   "execution_count": 22,
   "id": "5de8a97c",
   "metadata": {},
   "outputs": [],
   "source": [
    "nbmodel=MultinomialNB()\n",
    "nbclassifier = nbmodel.fit(X_train, y_train)\n",
    "y_pred = nbmodel.predict(X_test)"
   ]
  },
  {
   "cell_type": "code",
   "execution_count": 23,
   "id": "698b6bd5",
   "metadata": {},
   "outputs": [
    {
     "name": "stdout",
     "output_type": "stream",
     "text": [
      "Confusion Matrix: \n",
      " [[   8  286  141]\n",
      " [   0 2951  171]\n",
      " [   0  572 1871]]\n",
      "Accuracy Score : 0.805\n",
      "Classification Report: \n",
      "               precision    recall  f1-score   support\n",
      "\n",
      "          -1       1.00      0.02      0.04       435\n",
      "           0       0.77      0.95      0.85      3122\n",
      "           1       0.86      0.77      0.81      2443\n",
      "\n",
      "   micro avg       0.81      0.81      0.81      6000\n",
      "   macro avg       0.88      0.58      0.57      6000\n",
      "weighted avg       0.82      0.81      0.78      6000\n",
      "\n",
      "Error:  0.2185\n"
     ]
    }
   ],
   "source": [
    "#Check Result\n",
    "matrix=confusion_matrix(y_test,y_pred)\n",
    "print(\"Confusion Matrix: \\n\",matrix)\n",
    "score=accuracy_score(y_test,y_pred)\n",
    "print(\"Accuracy Score :\",score)\n",
    "report=classification_report(y_test,y_pred)\n",
    "print(\"Classification Report: \\n\",report)\n",
    "\n",
    "\n",
    "error = metrics.mean_absolute_error(y_test, y_pred)\n",
    "print(\"Error: \", error)"
   ]
  },
  {
   "cell_type": "markdown",
   "id": "8caacda9",
   "metadata": {},
   "source": [
    "# Learning Curve NB"
   ]
  },
  {
   "cell_type": "code",
   "execution_count": 35,
   "id": "c07e5aa3",
   "metadata": {},
   "outputs": [
    {
     "data": {
      "image/png": "[encoded data removed]",
      "text/plain": [
       "<Figure size 432x288 with 1 Axes>"
      ]
     },
     "metadata": {
      "needs_background": "light"
     },
     "output_type": "display_data"
    }
   ],
   "source": [
    "from sklearn.model_selection import learning_curve\n",
    "\n",
    "# Obtain scores from learning curve function\n",
    "# cv is the number of folds while performing Cross Validation\n",
    "sizes, training_scores, testing_scores = learning_curve(MultinomialNB(), X_train, y_train, cv=10, scoring='accuracy', train_sizes=np.linspace(0.01, 1.0, 50))\n",
    "\n",
    "# Mean and Standard Deviation of training scores\n",
    "mean_training = np.mean(training_scores, axis=1)\n",
    "Standard_Deviation_training = np.std(training_scores, axis=1)\n",
    "\n",
    "# Mean and Standard Deviation of testing scores\n",
    "mean_testing = np.mean(testing_scores, axis=1)\n",
    "Standard_Deviation_testing = np.std(testing_scores, axis=1)\n",
    "\n",
    "# dotted blue line is for training scores and green line is for cross-validation score\n",
    "plt.plot(sizes, mean_training, '--', color=\"b\", label=\"Training score\")\n",
    "plt.plot(sizes, mean_testing, color=\"g\", label=\"Cross-validation score\")\n",
    "\n",
    "# Drawing plot\n",
    "plt.title(\"LEARNING CURVE FOR Naive Bayes\")\n",
    "plt.xlabel(\"Training Set Size\"), plt.ylabel(\"Accuracy Score\"), plt.legend(loc=\"best\")\n",
    "plt.tight_layout()\n",
    "plt.show()"
   ]
  },
  {
   "cell_type": "markdown",
   "id": "2e376ac3",
   "metadata": {},
   "source": [
    "# RandomForestClassifeir"
   ]
  },
  {
   "cell_type": "code",
   "execution_count": 24,
   "id": "a103b2ca",
   "metadata": {},
   "outputs": [],
   "source": [
    "# implement RandomForest Classifier\n",
    "randomclassifier=RandomForestClassifier(n_estimators=200,criterion='entropy')\n",
    "randomclassifier.fit(X_train,y_train)\n",
    "y_pred = randomclassifier.predict(X_test)"
   ]
  },
  {
   "cell_type": "code",
   "execution_count": 25,
   "id": "73a32738",
   "metadata": {},
   "outputs": [
    {
     "name": "stdout",
     "output_type": "stream",
     "text": [
      "Confusion Matrix: \n",
      " [[ 178  192   65]\n",
      " [   1 3091   30]\n",
      " [  13  375 2055]]\n",
      "Accuracy Score : 0.8873333333333333\n",
      "Classification Report: \n",
      "               precision    recall  f1-score   support\n",
      "\n",
      "          -1       0.93      0.41      0.57       435\n",
      "           0       0.84      0.99      0.91      3122\n",
      "           1       0.96      0.84      0.89      2443\n",
      "\n",
      "   micro avg       0.89      0.89      0.89      6000\n",
      "   macro avg       0.91      0.75      0.79      6000\n",
      "weighted avg       0.90      0.89      0.88      6000\n",
      "\n",
      "Error:  0.12566666666666668\n"
     ]
    }
   ],
   "source": [
    "#Check Result\n",
    "matrix=confusion_matrix(y_test,y_pred)\n",
    "print(\"Confusion Matrix: \\n\",matrix)\n",
    "score=accuracy_score(y_test,y_pred)\n",
    "print(\"Accuracy Score :\",score)\n",
    "report=classification_report(y_test,y_pred)\n",
    "print(\"Classification Report: \\n\",report)\n",
    "\n",
    "error = metrics.mean_absolute_error(y_test, y_pred)\n",
    "print(\"Error: \", error)"
   ]
  },
  {
   "cell_type": "markdown",
   "id": "5ae6cdbe",
   "metadata": {},
   "source": [
    "# Learning Curve RandomForestClassifier"
   ]
  },
  {
   "cell_type": "code",
   "execution_count": 34,
   "id": "1e03e5b5",
   "metadata": {},
   "outputs": [
    {
     "data": {
      "image/png": "[encoded data removed]",
      "text/plain": [
       "<Figure size 432x288 with 1 Axes>"
      ]
     },
     "metadata": {
      "needs_background": "light"
     },
     "output_type": "display_data"
    }
   ],
   "source": [
    "from sklearn.model_selection import learning_curve\n",
    "\n",
    "# Obtain scores from learning curve function\n",
    "# cv is the number of folds while performing Cross Validation\n",
    "sizes, training_scores, testing_scores = learning_curve(RandomForestClassifier(), X_train, y_train, cv=10, scoring='accuracy', train_sizes=np.linspace(0.01, 1.0, 50))\n",
    "\n",
    "# Mean and Standard Deviation of training scores\n",
    "mean_training = np.mean(training_scores, axis=1)\n",
    "Standard_Deviation_training = np.std(training_scores, axis=1)\n",
    "\n",
    "# Mean and Standard Deviation of testing scores\n",
    "mean_testing = np.mean(testing_scores, axis=1)\n",
    "Standard_Deviation_testing = np.std(testing_scores, axis=1)\n",
    "\n",
    "# dotted blue line is for training scores and green line is for cross-validation score\n",
    "plt.plot(sizes, mean_training, '--', color=\"b\", label=\"Training score\")\n",
    "plt.plot(sizes, mean_testing, color=\"g\", label=\"Cross-validation score\")\n",
    "\n",
    "# Drawing plot\n",
    "plt.title(\"LEARNING CURVE FOR RandomForestClassifier\")\n",
    "plt.xlabel(\"Training Set Size\"), plt.ylabel(\"Accuracy Score\"), plt.legend(loc=\"best\")\n",
    "plt.tight_layout()\n",
    "plt.show()"
   ]
  }
 ],
 "metadata": {
  "kernelspec": {
   "display_name": "Python 3 (ipykernel)",
   "language": "python",
   "name": "python3"
  },
  "language_info": {
   "codemirror_mode": {
    "name": "ipython",
    "version": 3
   },
   "file_extension": ".py",
   "mimetype": "text/x-python",
   "name": "python",
   "nbconvert_exporter": "python",
   "pygments_lexer": "ipython3",
   "version": "3.9.7"
  }
 },
 "nbformat": 4,
 "nbformat_minor": 5
}
